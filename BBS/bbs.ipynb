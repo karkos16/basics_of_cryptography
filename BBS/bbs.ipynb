{
  "cells": [
    {
      "cell_type": "markdown",
      "metadata": {},
      "source": [
        "# BBS - Blum-Blum-Shub, generator ciągów losowych\n",
        "---\n",
        "#### Liczby Bluma i N wyznaczone na podstawie tych liczb"
      ]
    },
    {
      "cell_type": "code",
      "execution_count": 578,
      "metadata": {},
      "outputs": [],
      "source": [
        "def isPrime(n):\n",
        "    if n < 2:\n",
        "        return False\n",
        "    for i in range(2, int(n**0.5)+1):\n",
        "        if n % i == 0:\n",
        "            return False\n",
        "    return True"
      ]
    },
    {
      "cell_type": "code",
      "execution_count": 579,
      "metadata": {
        "trusted": true
      },
      "outputs": [],
      "source": [
        "blum_p = 4892\n",
        "blum_q = 5251\n",
        "\n",
        "while blum_p % 4 != 3 and isPrime(blum_p) == False:\n",
        "    blum_p += 1\n",
        "\n",
        "while blum_q % 4 != 3 and isPrime(blum_q) == False and blum_q != blum_p:\n",
        "    blum_q += 1\n",
        "\n",
        "\n",
        "N = blum_p * blum_q\n",
        "series_len = 20000\n",
        "random_series = ''"
      ]
    },
    {
      "cell_type": "markdown",
      "metadata": {},
      "source": [
        "#### Wyliczenie liczby x, aby x i N były względnie pierwsze"
      ]
    },
    {
      "cell_type": "code",
      "execution_count": 580,
      "metadata": {
        "trusted": true
      },
      "outputs": [],
      "source": [
        "import random\n",
        "import math\n",
        "\n",
        "x_0 = random.randint(1,123)\n",
        "\n",
        "while math.gcd(N, x_0) != 1:\n",
        "    x_0 = random.randint(1,N)"
      ]
    },
    {
      "cell_type": "markdown",
      "metadata": {},
      "source": [
        "#### Wyliczenie wartości pierwotnej generatora i pierwszego elementu ciągu"
      ]
    },
    {
      "cell_type": "code",
      "execution_count": 581,
      "metadata": {
        "trusted": true
      },
      "outputs": [],
      "source": [
        "def calculateNextElement(x, N):\n",
        "    if x % 2:\n",
        "        return '0'\n",
        "    else:\n",
        "        return '1'\n",
        "\n",
        "random_series = calculateNextElement(x_0, N) + random_series"
      ]
    },
    {
      "cell_type": "markdown",
      "metadata": {},
      "source": [
        "#### Wyliczenie wartości pozostałych elementów ciągu"
      ]
    },
    {
      "cell_type": "code",
      "execution_count": 582,
      "metadata": {
        "trusted": true
      },
      "outputs": [],
      "source": [
        "for index in range(series_len - 1):\n",
        "    x_0 = pow(x_0, 2, N)\n",
        "    random_series = calculateNextElement(x_0, N) + random_series"
      ]
    },
    {
      "cell_type": "markdown",
      "metadata": {
        "editable": true,
        "slideshow": {
          "slide_type": ""
        },
        "tags": []
      },
      "source": [
        "---\n",
        "# Testy"
      ]
    },
    {
      "cell_type": "markdown",
      "metadata": {},
      "source": [
        "#### Test pojedynczego bitu"
      ]
    },
    {
      "cell_type": "code",
      "execution_count": 583,
      "metadata": {
        "trusted": true
      },
      "outputs": [
        {
          "name": "stdout",
          "output_type": "stream",
          "text": [
            "True\n"
          ]
        }
      ],
      "source": [
        "def oneBitTest(series):\n",
        "    ones = 0\n",
        "    zeros = 0\n",
        "    for bit in series:\n",
        "        if bit == '1':\n",
        "            ones += 1\n",
        "        else:\n",
        "            zeros += 1\n",
        "                 \n",
        "    return  ones > 9725 and ones < 10275\n",
        "\n",
        "print(oneBitTest(random_series))"
      ]
    },
    {
      "cell_type": "markdown",
      "metadata": {},
      "source": [
        "#### Test serii"
      ]
    },
    {
      "cell_type": "code",
      "execution_count": 584,
      "metadata": {},
      "outputs": [
        {
          "name": "stdout",
          "output_type": "stream",
          "text": [
            "Subseries 6 failed\n",
            "0: 195 1: 78\n",
            "False\n"
          ]
        }
      ],
      "source": [
        "ranges = {\n",
        "    1: [2315, 2685],\n",
        "    2: [1114, 1386],\n",
        "    3: [527, 723],\n",
        "    4: [240, 384],\n",
        "    5: [103, 209],\n",
        "    6: [103, 209]\n",
        "}\n",
        "\n",
        "def subSeriesTest(series: str):\n",
        "    count_sum_zero = 0\n",
        "    count_sum_one = 0\n",
        "    for i in range(6, 0, -1):\n",
        "        sub_zero_series = i * '0'\n",
        "        sub_one_series = i * '1'\n",
        "        \n",
        "        count_zero = series.count(sub_zero_series) - count_sum_zero\n",
        "        count_one = series.count(sub_one_series) - count_sum_one\n",
        "        count_sum_zero += count_zero\n",
        "        count_sum_one += count_one\n",
        "        if count_zero < ranges[i][0] or count_zero > ranges[i][1] or count_one < ranges[i][0] or count_one > ranges[i][1]:\n",
        "            print(f\"Subseries {i} failed\")\n",
        "            print(f\"0: {count_zero} 1: {count_one}\")\n",
        "\n",
        "            return False\n",
        "        \n",
        "print(subSeriesTest(random_series))"
      ]
    },
    {
      "cell_type": "markdown",
      "metadata": {},
      "source": [
        "#### Test długiej serii"
      ]
    },
    {
      "cell_type": "code",
      "execution_count": 585,
      "metadata": {},
      "outputs": [
        {
          "name": "stdout",
          "output_type": "stream",
          "text": [
            "True\n"
          ]
        }
      ],
      "source": [
        "def longSubSeriesTest(series: str):\n",
        "    if series.count('0' * 26) > 0 or series.count('1' * 26) > 0:\n",
        "        return False\n",
        "    return True\n",
        "\n",
        "print(longSubSeriesTest(random_series))"
      ]
    },
    {
      "cell_type": "markdown",
      "metadata": {},
      "source": [
        "#### Test pokerowy"
      ]
    },
    {
      "cell_type": "code",
      "execution_count": 586,
      "metadata": {},
      "outputs": [
        {
          "name": "stdout",
          "output_type": "stream",
          "text": [
            "{'0011': 494, '0001': 299, '0110': 389, '0111': 442, '1111': 182, '1001': 325, '1010': 285, '1000': 221, '1110': 286, '0100': 325, '0000': 377, '0010': 325, '0101': 233, '1100': 246, '1101': 298, '1011': 273}\n",
            "319.1999999999998\n",
            "False\n"
          ]
        }
      ],
      "source": [
        "def pokerTest(series: str):\n",
        "    poker_dict = {}\n",
        "    for i in range(0, len(series), 4):\n",
        "        sub_series = series[i:i+4]\n",
        "        if sub_series in poker_dict:\n",
        "            poker_dict[sub_series] += 1\n",
        "        else:\n",
        "            poker_dict[sub_series] = 1\n",
        "            \n",
        "    print(poker_dict)\n",
        "\n",
        "    sum = 0\n",
        "    for key in poker_dict:\n",
        "        sum += poker_dict[key]**2\n",
        "    x = 16/5000 * sum - 5000\n",
        "    print(x)\n",
        "    return x < 46.17 and x > 2.16\n",
        "\n",
        "print(pokerTest(random_series))"
      ]
    }
  ],
  "metadata": {
    "kernelspec": {
      "display_name": "Python 3",
      "language": "python",
      "name": "python3"
    },
    "language_info": {
      "codemirror_mode": {
        "name": "ipython",
        "version": 3
      },
      "file_extension": ".py",
      "mimetype": "text/x-python",
      "name": "python",
      "nbconvert_exporter": "python",
      "pygments_lexer": "ipython3",
      "version": "3.11.1"
    }
  },
  "nbformat": 4,
  "nbformat_minor": 4
}
