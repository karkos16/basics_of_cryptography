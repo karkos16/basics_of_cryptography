{
 "cells": [
  {
   "cell_type": "markdown",
   "metadata": {},
   "source": [
    "# Szyfry blokowe - ECB, OCB, CTR\n",
    "---\n",
    "\n",
    "### Imports"
   ]
  },
  {
   "cell_type": "code",
   "execution_count": 1,
   "metadata": {},
   "outputs": [],
   "source": [
    "import random\n",
    "from Crypto.Cipher import AES\n",
    "from Crypto.Util.Padding import pad, unpad\n",
    "from Crypto.Util.Counter import new\n",
    "from Crypto.Random import get_random_bytes\n",
    "from time import time"
   ]
  },
  {
   "cell_type": "markdown",
   "metadata": {},
   "source": [
    "---\n",
    "### Data"
   ]
  },
  {
   "cell_type": "code",
   "execution_count": 24,
   "metadata": {},
   "outputs": [],
   "source": [
    "def random_data(size):\n",
    "    characters = 'abcdefghijklmnopqrstuvwxyzABCDEFGHIJKLMNOPQRSTUVWXYZ'\n",
    "    random_indices = [random.randint(0, len(characters) - 1) for _ in range(size)]\n",
    "    return ''.join([characters[i] for i in random_indices])\n",
    "\n",
    "sizes = [100000, 1000000, 1000000000]\n",
    "\n",
    "for size in sizes:\n",
    "    file_name = 'data/data_' + str(size) + \".txt\"\n",
    "    data = random_data(size)\n",
    "    with open(file_name, 'w') as file:\n",
    "        file.write(data)\n",
    "        "
   ]
  },
  {
   "cell_type": "code",
   "execution_count": 2,
   "metadata": {},
   "outputs": [],
   "source": [
    "sizes = [100000, 1000000, 1000000000]\n",
    "data = []\n",
    "\n",
    "for size in sizes:\n",
    "    file_name = 'data/data_' + str(size) + \".txt\"\n",
    "    with open(file_name, 'r') as file:\n",
    "        data.append(file.read())"
   ]
  },
  {
   "cell_type": "code",
   "execution_count": 3,
   "metadata": {},
   "outputs": [],
   "source": [
    "modes = [\n",
    "    (AES.MODE_ECB, 'ECB'),\n",
    "    (AES.MODE_OCB, 'OCB'),\n",
    "    (AES.MODE_CTR, 'CTR')\n",
    "]"
   ]
  },
  {
   "cell_type": "markdown",
   "metadata": {},
   "source": [
    "---\n",
    "### Speed test"
   ]
  },
  {
   "cell_type": "code",
   "execution_count": 4,
   "metadata": {},
   "outputs": [],
   "source": [
    "def printTime(mode, size, time, type = 'Encryption'):\n",
    "    print(f\"{type} {mode} mode with {size} bytes: {time} seconds\")\n",
    "\n",
    "def _chunks(data, size=16):\n",
    "    return [data[i:i + size] for i in range(0, len(data), size)]"
   ]
  },
  {
   "cell_type": "code",
   "execution_count": 5,
   "metadata": {},
   "outputs": [],
   "source": [
    "def modeEBC(data, size, key, time_print = True, data_print = False, make_mistake = False):\n",
    "    cipher = AES.new(key, AES.MODE_ECB)\n",
    "    padded_data = pad(data.encode(), AES.block_size)\n",
    "    start = time()\n",
    "    encrypted = cipher.encrypt(padded_data)\n",
    "    end = time()\n",
    "\n",
    "    if make_mistake:\n",
    "        encrypted = bytearray(encrypted)\n",
    "        encrypted[1] = encrypted[1] ^ 1\n",
    "        encrypted = bytes(encrypted)\n",
    "        \n",
    "    if time_print:\n",
    "        printTime(\"ECB\", size, end - start)\n",
    "    start = time()\n",
    "    decrypted = cipher.decrypt(encrypted)\n",
    "    end = time()\n",
    "    if time_print:\n",
    "        printTime(\"ECB\", size, end - start, 'Decryption')\n",
    "\n",
    "    if data_print:\n",
    "        print(f\"Data: {data}\")\n",
    "        print(f\"Encrypted: {encrypted.decode('latin-1')}\")\n",
    "        print(f\"Decrypted: {decrypted.decode('latin-1')}\")"
   ]
  },
  {
   "cell_type": "code",
   "execution_count": 6,
   "metadata": {},
   "outputs": [],
   "source": [
    "def modeOCB(data, size, key, time_print = True, data_print = False, make_mistake = False):\n",
    "    nonce = get_random_bytes(15)\n",
    "\n",
    "    cipher_text = b''\n",
    "    \n",
    "    start = time()\n",
    "    cipher = AES.new(key, AES.MODE_OCB, nonce = nonce)\n",
    "    cipher_text, tag = cipher.encrypt_and_digest(data.encode())\n",
    "    end = time()\n",
    "\n",
    "    if make_mistake:\n",
    "        cipher_text = bytearray(cipher_text)\n",
    "        cipher_text[1] = cipher_text[1] ^ 1\n",
    "        cipher_text = bytes(cipher_text)\n",
    "\n",
    "    if time_print:\n",
    "        printTime(\"OCB\", size, end - start)\n",
    "\n",
    "    plain_text = b''\n",
    "    \n",
    "    try:\n",
    "        start = time()\n",
    "        cipher = AES.new(key, AES.MODE_OCB, nonce = nonce)\n",
    "        plain_text = cipher.decrypt_and_verify(cipher_text, tag)\n",
    "        end = time()\n",
    "    except ValueError:\n",
    "        start = time()\n",
    "        cipher = AES.new(key, AES.MODE_OCB, nonce = nonce)\n",
    "        plain_text = cipher.decrypt(cipher_text)\n",
    "        end = time()\n",
    "\n",
    "    if time_print:\n",
    "        printTime(\"OCB\", size, end - start, 'Decryption')\n",
    "        \n",
    "    if data_print:\n",
    "        print(f\"Original data: {data}\")\n",
    "        print(f\"Encrypted data: {cipher_text.decode('latin-1')}\")\n",
    "        print(f\"Decrypted data: {plain_text.decode('latin-1')}\")\n"
   ]
  },
  {
   "cell_type": "code",
   "execution_count": 7,
   "metadata": {},
   "outputs": [],
   "source": [
    "def modeCTR(data, size, key, time_print = True, data_print = False, make_mistake = False):\n",
    "    counter = new(128)\n",
    "\n",
    "    cipher = AES.new(key, AES.MODE_CTR, counter = counter)\n",
    "\n",
    "    start = time()\n",
    "    encrypted = cipher.encrypt(data.encode())\n",
    "    end = time()\n",
    "\n",
    "    if make_mistake:\n",
    "        encrypted = bytearray(encrypted)\n",
    "        encrypted[1] = encrypted[1] ^ 1\n",
    "        encrypted = bytes(encrypted)\n",
    "\n",
    "    if time_print:\n",
    "        printTime(\"CTR\", size, end - start)\n",
    "    \n",
    "    cipher = AES.new(key, AES.MODE_CTR, counter = counter)\n",
    "\n",
    "    start = time()\n",
    "    decrypted = cipher.decrypt(encrypted)\n",
    "    end = time()\n",
    "\n",
    "    if time_print:\n",
    "        printTime(\"CTR\", size, end - start, 'Decryption')\n",
    "\n",
    "    if data_print:\n",
    "        print(f\"Original data: {data}\")\n",
    "        print(f\"Encrypted data: {encrypted.decode('latin-1')}\")\n",
    "        print(f\"Decrypted data: {decrypted.decode('latin-1')}\")\n",
    "    "
   ]
  },
  {
   "cell_type": "code",
   "execution_count": 8,
   "metadata": {},
   "outputs": [
    {
     "name": "stdout",
     "output_type": "stream",
     "text": [
      "Mode: ECB\n",
      "Encryption ECB mode with 100000 bytes: 0.0010020732879638672 seconds\n",
      "Decryption ECB mode with 100000 bytes: 0.0 seconds\n",
      "Encryption ECB mode with 1000000 bytes: 0.0009970664978027344 seconds\n",
      "Decryption ECB mode with 1000000 bytes: 0.0010075569152832031 seconds\n",
      "Encryption ECB mode with 1000000000 bytes: 0.5479245185852051 seconds\n",
      "Decryption ECB mode with 1000000000 bytes: 0.632866382598877 seconds\n",
      "\n",
      "Mode: OCB\n",
      "Encryption OCB mode with 100000 bytes: 0.0010371208190917969 seconds\n",
      "Decryption OCB mode with 100000 bytes: 0.0009970664978027344 seconds\n",
      "Encryption OCB mode with 1000000 bytes: 0.003964900970458984 seconds\n",
      "Decryption OCB mode with 1000000 bytes: 0.004002809524536133 seconds\n",
      "Encryption OCB mode with 1000000000 bytes: 5.446765661239624 seconds\n",
      "Decryption OCB mode with 1000000000 bytes: 5.437963008880615 seconds\n",
      "\n",
      "Mode: CTR\n",
      "Encryption CTR mode with 100000 bytes: 0.0 seconds\n",
      "Decryption CTR mode with 100000 bytes: 0.0 seconds\n",
      "Encryption CTR mode with 1000000 bytes: 0.004002094268798828 seconds\n",
      "Decryption CTR mode with 1000000 bytes: 0.001993894577026367 seconds\n",
      "Encryption CTR mode with 1000000000 bytes: 1.563176155090332 seconds\n",
      "Decryption CTR mode with 1000000000 bytes: 1.1156699657440186 seconds\n",
      "\n"
     ]
    }
   ],
   "source": [
    "key = get_random_bytes(16)\n",
    "for mode in modes:\n",
    "    cipher_encrypt = AES.new(key, mode[0])\n",
    "    cipher_decrypt = AES.new(key, mode[0])\n",
    "    print('Mode: ' + mode[1])\n",
    "    for i in range(3):\n",
    "        if mode[0] == AES.MODE_ECB:\n",
    "            modeEBC(data[i], sizes[i], key)\n",
    "        if mode[0] == AES.MODE_OCB:\n",
    "            modeOCB(data[i], sizes[i], key)\n",
    "        if mode[0] == AES.MODE_CTR:\n",
    "            modeCTR(data[i], sizes[i], key)\n",
    "    print()"
   ]
  },
  {
   "cell_type": "markdown",
   "metadata": {},
   "source": [
    "---\n",
    "### Mistake propagation"
   ]
  },
  {
   "cell_type": "code",
   "execution_count": 12,
   "metadata": {},
   "outputs": [
    {
     "name": "stdout",
     "output_type": "stream",
     "text": [
      "Data: Propapagacja bledu w trybie ECB\n",
      "Encrypted: ÕmËR]gü÷9Òzåÿ²ñÜ Nµ¾~lÅ\u000bõ·\n",
      "Decrypted: #Ùwú}Ì\u0016ý?S­ddu w trybie ECB\u0001\n",
      "\n",
      "Original data: Propapagacja bledu w trybie OCB\n",
      "Encrypted data: iú,ÎRò\tROYçXl\u001dâ£ã(Þ¦%r¿~Ê!cbÙ\n",
      "Decrypted data: ñÄE£ä@\u000eï;½Ý\u0012ée?\n",
      "\n",
      "Original data: Propapagacja bledu w trybie CTR\n",
      "Encrypted data: \u0004õó¹G=muÝ§2½é6\u0005Û½#ú\u0018nF¼|«Õö\u0017\n",
      "Decrypted data: Psopapagacja bledu w trybie CTR\n",
      "\n"
     ]
    }
   ],
   "source": [
    "for mode in modes:\n",
    "    text = 'Propapagacja bledu w trybie ' + mode[1]\n",
    "    if mode[0] == AES.MODE_ECB:\n",
    "        modeEBC(text, len(text), key, False, True, True)\n",
    "    if mode[0] == AES.MODE_OCB:\n",
    "        modeOCB(text, len(text), key, False, True, True)\n",
    "    if mode[0] == AES.MODE_CTR:\n",
    "        modeCTR(text, len(text), key, False, True, True)\n",
    "    print()\n",
    "    "
   ]
  },
  {
   "cell_type": "markdown",
   "metadata": {},
   "source": [
    "---\n",
    "### CBC implementation using ECB"
   ]
  },
  {
   "cell_type": "code",
   "execution_count": 10,
   "metadata": {},
   "outputs": [
    {
     "name": "stdout",
     "output_type": "stream",
     "text": [
      "Pû$;c£SÚ¶\u0004:Pî\tÂ·\u0000\\\n",
      "Testowanie trybu CBC\f\f\f\f\f\f\f\f\f\f\f\f\n"
     ]
    }
   ],
   "source": [
    "def modeCBC(data, key):\n",
    "    \n",
    "    iv = get_random_bytes(16)\n",
    "\n",
    "    previous_block = iv\n",
    "    cipher_text = b''\n",
    "\n",
    "    for block in _chunks(data):\n",
    "        cipher = AES.new(key, AES.MODE_ECB)\n",
    "        block = pad(block.encode(), AES.block_size)\n",
    "        cipher_block = cipher.encrypt(bytes([a ^ b for a, b in zip(block, previous_block)]))\n",
    "        cipher_text += cipher_block\n",
    "        previous_block = cipher_block\n",
    "\n",
    "    plain_text = b''\n",
    "    previous_block = iv\n",
    "    for block in _chunks(cipher_text):\n",
    "        cipher = AES.new(key, AES.MODE_ECB)\n",
    "        decrypted_block = cipher.decrypt(block)\n",
    "        plain_text += bytes([a ^ b for a, b in zip(decrypted_block, previous_block)])\n",
    "        previous_block = block\n",
    "\n",
    "    print(cipher_text.decode('latin-1'))\n",
    "    print(plain_text.decode('latin-1'))\n",
    "\n",
    "modeCBC(\"Testowanie trybu CBC\", key)"
   ]
  }
 ],
 "metadata": {
  "kernelspec": {
   "display_name": "Python 3",
   "language": "python",
   "name": "python3"
  },
  "language_info": {
   "codemirror_mode": {
    "name": "ipython",
    "version": 3
   },
   "file_extension": ".py",
   "mimetype": "text/x-python",
   "name": "python",
   "nbconvert_exporter": "python",
   "pygments_lexer": "ipython3",
   "version": "3.11.1"
  }
 },
 "nbformat": 4,
 "nbformat_minor": 2
}
