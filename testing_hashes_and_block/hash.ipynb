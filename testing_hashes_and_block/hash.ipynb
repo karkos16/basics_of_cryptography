{
 "cells": [
  {
   "cell_type": "markdown",
   "metadata": {},
   "source": [
    "# Funckje skrótu\n",
    "---\n",
    "### Imports"
   ]
  },
  {
   "cell_type": "code",
   "execution_count": 19,
   "metadata": {},
   "outputs": [],
   "source": [
    "import ipywidgets as widgets\n",
    "from IPython.display import display\n",
    "import hashlib\n",
    "import time\n",
    "import random\n",
    "import binascii"
   ]
  },
  {
   "cell_type": "markdown",
   "metadata": {},
   "source": [
    "----\n",
    "### Widgets"
   ]
  },
  {
   "cell_type": "code",
   "execution_count": 12,
   "metadata": {},
   "outputs": [
    {
     "data": {
      "application/vnd.jupyter.widget-view+json": {
       "model_id": "32d2d7e983984bf09cc3b76c63f9be40",
       "version_major": 2,
       "version_minor": 0
      },
      "text/plain": [
       "Text(value='', placeholder='Enter a phrase to hash')"
      ]
     },
     "metadata": {},
     "output_type": "display_data"
    }
   ],
   "source": [
    "phrase_widget = widgets.Text(placeholder='Enter a phrase to hash')\n",
    "display(phrase_widget)"
   ]
  },
  {
   "cell_type": "markdown",
   "metadata": {},
   "source": [
    "----"
   ]
  },
  {
   "cell_type": "code",
   "execution_count": 13,
   "metadata": {},
   "outputs": [
    {
     "name": "stdout",
     "output_type": "stream",
     "text": [
      "MD5 hash: d41d8cd98f00b204e9800998ecf8427e\n",
      "SHA1 hash: da39a3ee5e6b4b0d3255bfef95601890afd80709\n",
      "SHA224 hash: d14a028c2a3a2bc9476102bb288234c415a2b01f828ea62ac5b3e42f\n",
      "SHA256 hash: e3b0c44298fc1c149afbf4c8996fb92427ae41e4649b934ca495991b7852b855\n",
      "SHA384 hash: 38b060a751ac96384cd9327eb1b1e36a21fdb71114be07434c0cc7bf63f6e1da274edebfe76f65fbd51ad2f14898b95b\n",
      "SHA512 hash: cf83e1357eefb8bdf1542850d66d8007d620e4050b5715dc83f4a921d36ce9ce47d0d13c5d85f2b0ff8318d2877eec2f63b931bd47417a81a538327af927da3e\n",
      "SHA3-224 hash: 6b4e03423667dbb73b6e15454f0eb1abd4597f9a1b078e3f5b5a6bc7\n",
      "SHA3-256 hash: a7ffc6f8bf1ed76651c14756a061d662f580ff4de43b49fa82d80a4b80f8434a\n",
      "SHA3-384 hash: 0c63a75b845e4f7d01107d852e4c2485c51a50aaaa94fc61995e71bbee983a2ac3713831264adb47fb6bd1e058d5f004\n",
      "SHA3-512 hash: a69f73cca23a9ac5c8b567dc185a756e97c982164fe25859e0d1dcc1475c80a615b2123af1f5f94c11e3e9402c3ac558f500199d95b6d3e301758586281dcd26\n",
      "---------------------POROWNANIE DLUGOSCI HASHY----------------------------\n",
      "|MD5|SHA1|SHA224|SHA256|SHA384|SHA512|SHA3-224|SHA3-256|SHA3-384|SHA3-512|\n",
      "|---|----|------|------|------|------|--------|--------|--------|--------|\n",
      "|32 | 40 |  56  |  64  |  96  | 128  |   56   |   64   |   96   |  128   |\n",
      "--------------------------------------------------------------------------\n"
     ]
    }
   ],
   "source": [
    "phrase = phrase_widget.value\n",
    "\n",
    "md5_hash = hashlib.md5(phrase.encode()).hexdigest()\n",
    "sha1_hash = hashlib.sha1(phrase.encode()).hexdigest()\n",
    "sha224_hash = hashlib.sha224(phrase.encode()).hexdigest()\n",
    "sha256_hash = hashlib.sha256(phrase.encode()).hexdigest()\n",
    "sha384_hash = hashlib.sha384(phrase.encode()).hexdigest()\n",
    "sha512_hash = hashlib.sha512(phrase.encode()).hexdigest()\n",
    "sha3_224_hash = hashlib.sha3_224(phrase.encode()).hexdigest()\n",
    "sha3_256_hash = hashlib.sha3_256(phrase.encode()).hexdigest()\n",
    "sha3_384_hash = hashlib.sha3_384(phrase.encode()).hexdigest()\n",
    "sha3_512_hash = hashlib.sha3_512(phrase.encode()).hexdigest()\n",
    "\n",
    "print(f'MD5 hash: {md5_hash}')\n",
    "print(f'SHA1 hash: {sha1_hash}')\n",
    "print(f'SHA224 hash: {sha224_hash}')\n",
    "print(f'SHA256 hash: {sha256_hash}')\n",
    "print(f'SHA384 hash: {sha384_hash}')\n",
    "print(f'SHA512 hash: {sha512_hash}')\n",
    "print(f'SHA3-224 hash: {sha3_224_hash}')\n",
    "print(f'SHA3-256 hash: {sha3_256_hash}')\n",
    "print(f'SHA3-384 hash: {sha3_384_hash}')\n",
    "print(f'SHA3-512 hash: {sha3_512_hash}')\n",
    "print('---------------------POROWNANIE DLUGOSCI HASHY----------------------------')\n",
    "print('|MD5|SHA1|SHA224|SHA256|SHA384|SHA512|SHA3-224|SHA3-256|SHA3-384|SHA3-512|')\n",
    "print('|---|----|------|------|------|------|--------|--------|--------|--------|')\n",
    "print(f'|{len(md5_hash)} | {len(sha1_hash)} |  {len(sha224_hash)}  |  {len(sha256_hash)}  |  {len(sha384_hash)}  | {len(sha512_hash)}  |   {len(sha3_224_hash)}   |   {len(sha3_256_hash)}   |   {len(sha3_384_hash)}   |  {len(sha3_512_hash)}   |')\n",
    "print('--------------------------------------------------------------------------')"
   ]
  },
  {
   "cell_type": "markdown",
   "metadata": {},
   "source": [
    "---\n",
    "### Porównanie funkcji skrótu"
   ]
  },
  {
   "cell_type": "code",
   "execution_count": 14,
   "metadata": {},
   "outputs": [],
   "source": [
    "def test_hash_function(data, function_name):\n",
    "    start_time = time.time()\n",
    "    function_name(data.encode()).hexdigest()\n",
    "    end_time = time.time()\n",
    "\n",
    "    return end_time - start_time\n",
    "\n",
    "def random_data(size):\n",
    "    characters = 'abcdefghijklmnopqrstuvwxyzABCDEFGHIJKLMNOPQRSTUVWXYZ'\n",
    "    random_indices = [random.randint(0, len(characters) - 1) for _ in range(size)]\n",
    "    return ''.join([characters[i] for i in random_indices])\n",
    "\n",
    "functions = [\n",
    "    hashlib.md5,\n",
    "    hashlib.sha1,\n",
    "    hashlib.sha224,\n",
    "    hashlib.sha256,\n",
    "    hashlib.sha384,\n",
    "    hashlib.sha512,\n",
    "    hashlib.sha3_224,\n",
    "    hashlib.sha3_256,\n",
    "    hashlib.sha3_384,\n",
    "    hashlib.sha3_512\n",
    "]\n",
    "\n",
    "sizes = [10000, 10000000, 100000000]"
   ]
  },
  {
   "cell_type": "code",
   "execution_count": 15,
   "metadata": {},
   "outputs": [
    {
     "name": "stdout",
     "output_type": "stream",
     "text": [
      "---------------------\n",
      "Hashing 10000 bytes of data:\n",
      "openssl_md5 took 0.0010020732879638672 seconds\n",
      "openssl_sha1 took 0.0 seconds\n",
      "openssl_sha224 took 0.0 seconds\n",
      "openssl_sha256 took 0.0 seconds\n",
      "openssl_sha384 took 0.0 seconds\n",
      "openssl_sha512 took 0.0 seconds\n",
      "openssl_sha3_224 took 0.0 seconds\n",
      "openssl_sha3_256 took 0.0 seconds\n",
      "openssl_sha3_384 took 0.0 seconds\n",
      "openssl_sha3_512 took 0.0 seconds\n",
      "---------------------\n",
      "Hashing 10000000 bytes of data:\n",
      "openssl_md5 took 0.0171201229095459 seconds\n",
      "openssl_sha1 took 0.010003089904785156 seconds\n",
      "openssl_sha224 took 0.011019229888916016 seconds\n",
      "openssl_sha256 took 0.012974739074707031 seconds\n",
      "openssl_sha384 took 0.022001981735229492 seconds\n",
      "openssl_sha512 took 0.01799631118774414 seconds\n",
      "openssl_sha3_224 took 0.026000022888183594 seconds\n",
      "openssl_sha3_256 took 0.02800464630126953 seconds\n",
      "openssl_sha3_384 took 0.036997079849243164 seconds\n",
      "openssl_sha3_512 took 0.05300140380859375 seconds\n",
      "---------------------\n",
      "Hashing 100000000 bytes of data:\n",
      "openssl_md5 took 0.19800543785095215 seconds\n",
      "openssl_sha1 took 0.15124154090881348 seconds\n",
      "openssl_sha224 took 0.1549973487854004 seconds\n",
      "openssl_sha256 took 0.15645956993103027 seconds\n",
      "openssl_sha384 took 0.2463059425354004 seconds\n",
      "openssl_sha512 took 0.2508537769317627 seconds\n",
      "openssl_sha3_224 took 0.39967966079711914 seconds\n",
      "openssl_sha3_256 took 0.43900442123413086 seconds\n",
      "openssl_sha3_384 took 0.6196753978729248 seconds\n",
      "openssl_sha3_512 took 0.9139800071716309 seconds\n"
     ]
    }
   ],
   "source": [
    "for size in sizes:\n",
    "    print('---------------------')\n",
    "    print(f'Hashing {size} bytes of data:')\n",
    "    data = random_data(size)\n",
    "    for function in functions:\n",
    "        period = test_hash_function(data, function)\n",
    "        print(f'{function.__name__} took {period} seconds')"
   ]
  },
  {
   "cell_type": "markdown",
   "metadata": {},
   "source": [
    "Najszybszą funckja skrótu jest `sha1`\n",
    "\n",
    "---\n",
    "Hash krótkiego słowa"
   ]
  },
  {
   "cell_type": "code",
   "execution_count": 16,
   "metadata": {},
   "outputs": [
    {
     "data": {
      "text/plain": [
       "'13de8889aecf8f48d9c799a1f3fb520fa748372a'"
      ]
     },
     "execution_count": 16,
     "metadata": {},
     "output_type": "execute_result"
    }
   ],
   "source": [
    "hashlib.sha1(b\"jojo\").hexdigest()"
   ]
  },
  {
   "cell_type": "markdown",
   "metadata": {},
   "source": [
    "Skrót haszowy dla słowa `jojo` jest powszechnie znany i bez problemy można go znaleźć w internecie. Sugeruje to, że krótkie słowa nie powinny być stosowane jako hasła, ponieważ są łatwe do złamania lub nie trzeba ich nawet łamać, bo hasz jest dostępny publicznie."
   ]
  },
  {
   "cell_type": "markdown",
   "metadata": {},
   "source": [
    "---\n",
    "\n",
    "### Czy MD5 jest bezpieczne?"
   ]
  },
  {
   "cell_type": "markdown",
   "metadata": {},
   "source": [
    "Funkcji MD5 nie można uznać za bezpieczną, ponieważ zostały znalezione kolizje. Oznacza to, że dla różnych danych wejściowych funkcja może zwrócić ten sam wynik.\n",
    "\n",
    "---"
   ]
  },
  {
   "cell_type": "markdown",
   "metadata": {},
   "source": [
    "### Badanie kolizji funkcji sha1"
   ]
  },
  {
   "cell_type": "code",
   "execution_count": 17,
   "metadata": {},
   "outputs": [
    {
     "name": "stdout",
     "output_type": "stream",
     "text": [
      "30\n"
     ]
    }
   ],
   "source": [
    "def first_n_bits(hex_string, n):\n",
    "    return bin(int(hex_string, 16))[2:n+2]\n",
    "\n",
    "colisions = {}\n",
    "n = 15\n",
    "for i in range(1000):\n",
    "    data = random_data(5)\n",
    "    hash = hashlib.sha1(data.encode()).hexdigest()\n",
    "    if (first_n_bits(hash, n) in colisions):\n",
    "        colisions[first_n_bits(hash, n)] += 1\n",
    "    else:\n",
    "        colisions[first_n_bits(hash, n)] = 0\n",
    "\n",
    "\n",
    "\n",
    "print(sum(colisions.values()))"
   ]
  },
  {
   "cell_type": "markdown",
   "metadata": {},
   "source": [
    "---\n",
    "\n",
    "### Losowość wyjścia dla sha1 - kryterium SAC "
   ]
  },
  {
   "cell_type": "code",
   "execution_count": 32,
   "metadata": {},
   "outputs": [
    {
     "name": "stdout",
     "output_type": "stream",
     "text": [
      "Original data: QuqUP\n",
      "Original hash: 03857f8f247ddbde18bb446f48f657c1f11b1d9a\n",
      "Changed data: QupUP\n",
      "Changed hash: f9b07a63ccd74be1650a01d2b2379b6be2bffcaf\n",
      "Changed bits: 51.698113207547166%\n"
     ]
    }
   ],
   "source": [
    "data_length = 5\n",
    "data = random_data(data_length)\n",
    "hashed_data = hashlib.sha1(data.encode()).hexdigest()\n",
    "changed_data = data[:data_length//2] + chr(ord(data[data_length//2]) ^ 1) + data[data_length//2+1:]\n",
    "changed_hashed_data = hashlib.sha1(changed_data.encode()).hexdigest()\n",
    "\n",
    "changed_bits = 0\n",
    "\n",
    "print(f'Original data: {data}')\n",
    "print(f'Original hash: {hashed_data}')\n",
    "print(f'Changed data: {changed_data}') \n",
    "print(f'Changed hash: {changed_hashed_data}')\n",
    "\n",
    "bin_hash = bin(int(binascii.hexlify(hashed_data.encode())))[2:]\n",
    "bin_changed_hash = bin(int(binascii.hexlify(changed_hashed_data.encode())))[2:]\n",
    "\n",
    "for i in range(len(bin_hash) - 2):\n",
    "    if bin_hash[i] != bin_changed_hash[i]:\n",
    "        changed_bits += 1\n",
    "\n",
    "print(f'Changed bits: {changed_bits/len(bin_hash) * 100}%')"
   ]
  }
 ],
 "metadata": {
  "kernelspec": {
   "display_name": "Python 3",
   "language": "python",
   "name": "python3"
  },
  "language_info": {
   "codemirror_mode": {
    "name": "ipython",
    "version": 3
   },
   "file_extension": ".py",
   "mimetype": "text/x-python",
   "name": "python",
   "nbconvert_exporter": "python",
   "pygments_lexer": "ipython3",
   "version": "3.11.1"
  }
 },
 "nbformat": 4,
 "nbformat_minor": 2
}
